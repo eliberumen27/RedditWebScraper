{
 "cells": [
  {
   "cell_type": "markdown",
   "metadata": {},
   "source": [
    "# Reddit Intern Data Web Scraper\n",
    "\n",
    "We will be using the reddit API to gather data from Internship Data sharing forums and visualize a conclusion using Pandas and Praw Packages/Modules"
   ]
  },
  {
   "cell_type": "code",
   "execution_count": null,
   "metadata": {},
   "outputs": [],
   "source": [
    "#! usr/bin/env Python3\n",
    "import pandas as pd\n",
    "import praw # Python Reddit API Wrapper - conda install -c conda-forge praw\n",
    "import datetime as dt"
   ]
  },
  {
   "cell_type": "code",
   "execution_count": null,
   "metadata": {},
   "outputs": [],
   "source": [
    "# We store our Reddit connection in a variable, eponymously named as follows\n",
    "\n",
    "reddit = praw.Reddit(client_id = \"lD7lIa_cmbKp5g\", # personal use script id\n",
    "                    client_secret = \"bE24UgyLRpb3qaGWPfuyC_QWxps\", # secret key\n",
    "                    user_agent = \"Internship Web Scraper\", # our app name\n",
    "                    username = \"troubleguy4\", # our username\n",
    "                    password = \"Peanut#1\") # our reddit password"
   ]
  },
  {
   "cell_type": "code",
   "execution_count": null,
   "metadata": {},
   "outputs": [],
   "source": [
    "# Similarly we want to access a particular subreddit\n",
    "\n",
    "subreddit = reddit.subreddit(\"cscareerquestions\")\n",
    "top_subreddit = subreddit.top(limit=500) # Grabbing the top submissions"
   ]
  },
  {
   "cell_type": "code",
   "execution_count": null,
   "metadata": {},
   "outputs": [],
   "source": [
    "# Time to gather submission information from the subreddit"
   ]
  },
  {
   "cell_type": "code",
   "execution_count": null,
   "metadata": {},
   "outputs": [],
   "source": [
    "for submission in subreddit.top(limit=1):\n",
    "    print(submission.title, submission.id)"
   ]
  },
  {
   "cell_type": "code",
   "execution_count": null,
   "metadata": {},
   "outputs": [],
   "source": []
  }
 ],
 "metadata": {
  "kernelspec": {
   "display_name": "Python 3",
   "language": "python",
   "name": "python3"
  },
  "language_info": {
   "codemirror_mode": {
    "name": "ipython",
    "version": 3
   },
   "file_extension": ".py",
   "mimetype": "text/x-python",
   "name": "python",
   "nbconvert_exporter": "python",
   "pygments_lexer": "ipython3",
   "version": "3.6.8"
  }
 },
 "nbformat": 4,
 "nbformat_minor": 2
}
